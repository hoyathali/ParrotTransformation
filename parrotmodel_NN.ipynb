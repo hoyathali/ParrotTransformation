{
  "cells": [
    {
      "cell_type": "markdown",
      "metadata": {
        "id": "view-in-github",
        "colab_type": "text"
      },
      "source": [
        "<a href=\"https://colab.research.google.com/github/hoyathali/ParrotTransformation/blob/main/parrotmodel_NN.ipynb\" target=\"_parent\"><img src=\"https://colab.research.google.com/assets/colab-badge.svg\" alt=\"Open In Colab\"/></a>"
      ]
    },
    {
      "cell_type": "code",
      "execution_count": null,
      "metadata": {
        "tags": [],
        "colab": {
          "base_uri": "https://localhost:8080/"
        },
        "id": "cA7Bcrc0UqVC",
        "outputId": "b4d0cfaf-e9e0-4814-f6dd-2423bc87ace7"
      },
      "outputs": [
        {
          "output_type": "stream",
          "name": "stdout",
          "text": [
            "Requirement already satisfied: torch in /usr/local/lib/python3.10/dist-packages (2.1.0+cu121)\n",
            "Requirement already satisfied: filelock in /usr/local/lib/python3.10/dist-packages (from torch) (3.13.1)\n",
            "Requirement already satisfied: typing-extensions in /usr/local/lib/python3.10/dist-packages (from torch) (4.5.0)\n",
            "Requirement already satisfied: sympy in /usr/local/lib/python3.10/dist-packages (from torch) (1.12)\n",
            "Requirement already satisfied: networkx in /usr/local/lib/python3.10/dist-packages (from torch) (3.2.1)\n",
            "Requirement already satisfied: jinja2 in /usr/local/lib/python3.10/dist-packages (from torch) (3.1.3)\n",
            "Requirement already satisfied: fsspec in /usr/local/lib/python3.10/dist-packages (from torch) (2023.6.0)\n",
            "Requirement already satisfied: triton==2.1.0 in /usr/local/lib/python3.10/dist-packages (from torch) (2.1.0)\n",
            "Requirement already satisfied: MarkupSafe>=2.0 in /usr/local/lib/python3.10/dist-packages (from jinja2->torch) (2.1.4)\n",
            "Requirement already satisfied: mpmath>=0.19 in /usr/local/lib/python3.10/dist-packages (from sympy->torch) (1.3.0)\n"
          ]
        }
      ],
      "source": [
        "!pip install torch"
      ]
    },
    {
      "cell_type": "code",
      "execution_count": null,
      "metadata": {
        "tags": [],
        "id": "1_LdZhoWUqVE"
      },
      "outputs": [],
      "source": [
        "import pandas as pd\n",
        "import torch\n",
        "from torch.utils.data import TensorDataset, DataLoader\n",
        "import torch.nn as nn\n",
        "import torch.nn.functional as F\n",
        "import torch.optim as optim\n",
        "from torch.optim import lr_scheduler\n",
        "import time\n",
        "from sklearn.model_selection import train_test_split\n",
        "from sklearn.preprocessing import StandardScaler\n"
      ]
    },
    {
      "cell_type": "code",
      "execution_count": null,
      "metadata": {
        "tags": [],
        "colab": {
          "base_uri": "https://localhost:8080/"
        },
        "id": "Zw4_NQ7oUqVF",
        "outputId": "7313833e-f1e3-454e-d48c-6353a52a2c04"
      },
      "outputs": [
        {
          "output_type": "stream",
          "name": "stdout",
          "text": [
            "(1570, 16384)\n"
          ]
        }
      ],
      "source": [
        "raw_data_path='output.csv'\n",
        "df= pd.read_csv(raw_data_path,chunksize=50000,header=None)\n",
        "transposed_data=df\n",
        "for d in df:\n",
        "    transposed_data=d.transpose()\n",
        "\n",
        "print(transposed_data.shape)\n"
      ]
    },
    {
      "cell_type": "code",
      "execution_count": null,
      "metadata": {
        "tags": [],
        "colab": {
          "base_uri": "https://localhost:8080/"
        },
        "id": "k1lpL-S6UqVF",
        "outputId": "bac1ff12-a3c0-4280-d23d-7dfee54e87ca"
      },
      "outputs": [
        {
          "output_type": "stream",
          "name": "stdout",
          "text": [
            "(1570, 12288)\n",
            "(1570, 4096)\n"
          ]
        }
      ],
      "source": [
        "no_of_features=64*64*3\n",
        "no_of_outputs=64*64\n",
        "\n",
        "X=transposed_data.iloc[:,:no_of_features]\n",
        "y=transposed_data.iloc[:, -no_of_outputs:]\n",
        "\n",
        "print(X.shape)\n",
        "print(y.shape)"
      ]
    },
    {
      "cell_type": "code",
      "execution_count": null,
      "metadata": {
        "tags": [],
        "id": "tHAatU21UqVG"
      },
      "outputs": [],
      "source": [
        "# Step 1: Split the data into training, validation, and testing sets\n",
        "X_train, X_temp, y_train, y_temp = train_test_split(X, y, test_size=0.3, random_state=42)\n",
        "X_val, X_test, y_val, y_test = train_test_split(X_temp, y_temp, test_size=0.5, random_state=42)\n",
        "\n",
        "# Step 2: Normalize the data\n",
        "scaler = StandardScaler()\n",
        "\n",
        "# Fit the scaler on the training data and transform both training and validation data\n",
        "X_train_normalized = scaler.fit_transform(X_train)\n",
        "X_val_normalized = scaler.transform(X_val)\n",
        "X_test_normalized = scaler.transform(X_test)\n",
        "\n",
        "# Convert normalized data to PyTorch tensors\n",
        "X_train_tensor = torch.tensor(X_train_normalized, dtype=torch.float32)\n",
        "y_train_tensor = torch.tensor(y_train.values, dtype=torch.float32)  # Assuming labels are floats\n",
        "\n",
        "X_val_tensor = torch.tensor(X_val_normalized, dtype=torch.float32)\n",
        "y_val_tensor = torch.tensor(y_val.values, dtype=torch.float32)\n",
        "\n",
        "X_test_tensor = torch.tensor(X_test_normalized, dtype=torch.float32)\n",
        "y_test_tensor = torch.tensor(y_test.values, dtype=torch.float32)\n",
        "\n",
        "# Step 3: Create PyTorch datasets\n",
        "train_dataset = TensorDataset(X_train_tensor, y_train_tensor)\n",
        "val_dataset = TensorDataset(X_val_tensor, y_val_tensor)\n",
        "test_dataset = TensorDataset(X_test_tensor, y_test_tensor)\n"
      ]
    },
    {
      "cell_type": "code",
      "execution_count": null,
      "metadata": {
        "tags": [],
        "id": "177j79kGUqVG"
      },
      "outputs": [],
      "source": [
        "class SimpleNN(nn.Module):\n",
        "    def __init__(self, input_size, output_size):\n",
        "        super(SimpleNN, self).__init__()\n",
        "        hidden_size = (input_size // 3) * 2\n",
        "        self.fc1 = nn.Linear(input_size, hidden_size)\n",
        "        self.fc2 = nn.Linear(hidden_size, hidden_size//2)\n",
        "        self.fc3 = nn.Linear(hidden_size//2, hidden_size*2)\n",
        "        self.fc4 = nn.Linear(hidden_size*2, output_size)\n",
        "\n",
        "        nn.init.xavier_uniform_(self.fc1.weight)\n",
        "        nn.init.zeros_(self.fc1.bias)\n",
        "\n",
        "        nn.init.xavier_uniform_(self.fc2.weight)\n",
        "        nn.init.zeros_(self.fc2.bias)\n",
        "\n",
        "        nn.init.xavier_uniform_(self.fc3.weight)\n",
        "        nn.init.zeros_(self.fc3.bias)\n",
        "        nn.init.xavier_uniform_(self.fc4.weight)\n",
        "        nn.init.zeros_(self.fc4.bias)\n",
        "\n",
        "    def forward(self, x):\n",
        "        x = F.relu(self.fc1(x))\n",
        "        x = F.relu(self.fc2(x))\n",
        "        x = F.relu(self.fc3(x))\n",
        "        #x2=x+x2\n",
        "        x = self.fc4(x)\n",
        "\n",
        "        return x\n",
        "\n",
        "input_size = 64 * 64 * 3\n",
        "output_size = 64 * 64\n"
      ]
    },
    {
      "cell_type": "code",
      "execution_count": null,
      "metadata": {
        "tags": [],
        "id": "tNDb6uKqUqVH"
      },
      "outputs": [],
      "source": [
        "batch_size = 16  # Adjust the batch size based on your needs\n",
        "\n",
        "train_loader = DataLoader(train_dataset, batch_size=batch_size, shuffle=True)\n",
        "val_loader = DataLoader(val_dataset, batch_size=batch_size, shuffle=False)\n",
        "test_loader = DataLoader(test_dataset, batch_size=batch_size, shuffle=False)"
      ]
    },
    {
      "cell_type": "code",
      "execution_count": null,
      "metadata": {
        "tags": [],
        "colab": {
          "base_uri": "https://localhost:8080/"
        },
        "id": "FNoQ0PnCUqVH",
        "outputId": "1dcc2d2a-3f93-45cf-cdd9-9cace7da6249"
      },
      "outputs": [
        {
          "output_type": "stream",
          "name": "stdout",
          "text": [
            "Training Epoch [1/100], Average Loss: 10324.1509\n",
            "Validation Epoch [1/100], Average Loss: 5548.7564\n",
            "Training Epoch [2/100], Average Loss: 6595.1299\n",
            "Validation Epoch [2/100], Average Loss: 5893.1281\n",
            "Validation loss did not improve. Patience left: 4/5\n",
            "Training Epoch [3/100], Average Loss: 4123.7117\n",
            "Validation Epoch [3/100], Average Loss: 4353.1885\n",
            "Training Epoch [4/100], Average Loss: 3878.1450\n",
            "Validation Epoch [4/100], Average Loss: 3249.6125\n",
            "Training Epoch [5/100], Average Loss: 2549.5923\n",
            "Validation Epoch [5/100], Average Loss: 3592.8558\n",
            "Validation loss did not improve. Patience left: 4/5\n",
            "Training Epoch [6/100], Average Loss: 2457.6282\n",
            "Validation Epoch [6/100], Average Loss: 2754.0172\n",
            "Training Epoch [7/100], Average Loss: 2224.9350\n",
            "Validation Epoch [7/100], Average Loss: 2720.8803\n",
            "Training Epoch [8/100], Average Loss: 2195.5124\n",
            "Validation Epoch [8/100], Average Loss: 2720.8695\n",
            "Training Epoch [9/100], Average Loss: 1872.2095\n",
            "Validation Epoch [9/100], Average Loss: 2425.5253\n",
            "Training Epoch [10/100], Average Loss: 1758.2965\n",
            "Validation Epoch [10/100], Average Loss: 2855.3921\n",
            "Validation loss did not improve. Patience left: 4/5\n",
            "Training Epoch [11/100], Average Loss: 1811.2608\n",
            "Validation Epoch [11/100], Average Loss: 2378.2518\n",
            "Training Epoch [12/100], Average Loss: 1802.2153\n",
            "Validation Epoch [12/100], Average Loss: 2501.4482\n",
            "Validation loss did not improve. Patience left: 4/5\n",
            "Training Epoch [13/100], Average Loss: 2303.9595\n",
            "Validation Epoch [13/100], Average Loss: 2392.4074\n",
            "Validation loss did not improve. Patience left: 3/5\n",
            "Training Epoch [14/100], Average Loss: 1782.8060\n",
            "Validation Epoch [14/100], Average Loss: 2396.2105\n",
            "Validation loss did not improve. Patience left: 2/5\n",
            "Training Epoch [15/100], Average Loss: 1495.5049\n",
            "Validation Epoch [15/100], Average Loss: 2372.4800\n",
            "Training Epoch [16/100], Average Loss: 1553.7322\n",
            "Validation Epoch [16/100], Average Loss: 2310.4154\n",
            "Training Epoch [17/100], Average Loss: 1432.9433\n",
            "Validation Epoch [17/100], Average Loss: 2212.3536\n",
            "Training Epoch [18/100], Average Loss: 1291.6767\n",
            "Validation Epoch [18/100], Average Loss: 2195.9589\n",
            "Training Epoch [19/100], Average Loss: 1203.3819\n",
            "Validation Epoch [19/100], Average Loss: 2133.4683\n",
            "Training Epoch [20/100], Average Loss: 1158.3782\n",
            "Validation Epoch [20/100], Average Loss: 2070.0522\n",
            "Training Epoch [21/100], Average Loss: 1102.5277\n",
            "Validation Epoch [21/100], Average Loss: 2036.8461\n",
            "Training Epoch [22/100], Average Loss: 1060.8964\n",
            "Validation Epoch [22/100], Average Loss: 2103.1660\n",
            "Validation loss did not improve. Patience left: 4/5\n",
            "Training Epoch [23/100], Average Loss: 1077.6152\n",
            "Validation Epoch [23/100], Average Loss: 2009.1973\n",
            "Training Epoch [24/100], Average Loss: 1013.0843\n",
            "Validation Epoch [24/100], Average Loss: 2032.8561\n",
            "Validation loss did not improve. Patience left: 4/5\n",
            "Training Epoch [25/100], Average Loss: 977.8844\n",
            "Validation Epoch [25/100], Average Loss: 2011.0902\n",
            "Validation loss did not improve. Patience left: 3/5\n",
            "Training Epoch [26/100], Average Loss: 965.4403\n",
            "Validation Epoch [26/100], Average Loss: 2004.9410\n",
            "Training Epoch [27/100], Average Loss: 967.4642\n",
            "Validation Epoch [27/100], Average Loss: 1983.0342\n",
            "Training Epoch [28/100], Average Loss: 940.0473\n",
            "Validation Epoch [28/100], Average Loss: 1987.8830\n",
            "Validation loss did not improve. Patience left: 4/5\n",
            "Training Epoch [29/100], Average Loss: 896.8742\n",
            "Validation Epoch [29/100], Average Loss: 2013.4599\n",
            "Validation loss did not improve. Patience left: 3/5\n",
            "Training Epoch [30/100], Average Loss: 922.3576\n",
            "Validation Epoch [30/100], Average Loss: 1974.7481\n",
            "Training Epoch [31/100], Average Loss: 869.9499\n",
            "Validation Epoch [31/100], Average Loss: 1948.9547\n",
            "Training Epoch [32/100], Average Loss: 872.5489\n",
            "Validation Epoch [32/100], Average Loss: 1963.6786\n",
            "Validation loss did not improve. Patience left: 4/5\n",
            "Training Epoch [33/100], Average Loss: 845.2961\n",
            "Validation Epoch [33/100], Average Loss: 1904.1590\n",
            "Training Epoch [34/100], Average Loss: 811.3006\n",
            "Validation Epoch [34/100], Average Loss: 1905.1094\n",
            "Validation loss did not improve. Patience left: 4/5\n",
            "Training Epoch [35/100], Average Loss: 790.5195\n",
            "Validation Epoch [35/100], Average Loss: 1938.5287\n",
            "Validation loss did not improve. Patience left: 3/5\n",
            "Training Epoch [36/100], Average Loss: 790.3396\n",
            "Validation Epoch [36/100], Average Loss: 1903.8852\n",
            "Training Epoch [37/100], Average Loss: 766.6211\n",
            "Validation Epoch [37/100], Average Loss: 1892.9247\n",
            "Training Epoch [38/100], Average Loss: 797.9485\n",
            "Validation Epoch [38/100], Average Loss: 1910.2034\n",
            "Validation loss did not improve. Patience left: 4/5\n",
            "Training Epoch [39/100], Average Loss: 755.2674\n",
            "Validation Epoch [39/100], Average Loss: 1879.3999\n",
            "Training Epoch [40/100], Average Loss: 717.7427\n",
            "Validation Epoch [40/100], Average Loss: 1894.5481\n",
            "Validation loss did not improve. Patience left: 4/5\n",
            "Training Epoch [41/100], Average Loss: 692.9893\n",
            "Validation Epoch [41/100], Average Loss: 1884.0214\n",
            "Validation loss did not improve. Patience left: 3/5\n",
            "Training Epoch [42/100], Average Loss: 675.3274\n",
            "Validation Epoch [42/100], Average Loss: 1911.4922\n",
            "Validation loss did not improve. Patience left: 2/5\n",
            "Training Epoch [43/100], Average Loss: 653.5185\n",
            "Validation Epoch [43/100], Average Loss: 1865.9598\n",
            "Training Epoch [44/100], Average Loss: 639.5686\n",
            "Validation Epoch [44/100], Average Loss: 1859.1930\n",
            "Training Epoch [45/100], Average Loss: 620.6042\n",
            "Validation Epoch [45/100], Average Loss: 1861.4091\n",
            "Validation loss did not improve. Patience left: 4/5\n",
            "Training Epoch [46/100], Average Loss: 615.6836\n",
            "Validation Epoch [46/100], Average Loss: 1882.2894\n",
            "Validation loss did not improve. Patience left: 3/5\n",
            "Training Epoch [47/100], Average Loss: 606.4167\n",
            "Validation Epoch [47/100], Average Loss: 1858.9311\n",
            "Training Epoch [48/100], Average Loss: 585.5252\n",
            "Validation Epoch [48/100], Average Loss: 1848.6589\n",
            "Training Epoch [49/100], Average Loss: 574.7096\n",
            "Validation Epoch [49/100], Average Loss: 1858.4552\n",
            "Validation loss did not improve. Patience left: 4/5\n",
            "Training Epoch [50/100], Average Loss: 562.1249\n",
            "Validation Epoch [50/100], Average Loss: 1844.9708\n",
            "Training Epoch [51/100], Average Loss: 555.6206\n",
            "Validation Epoch [51/100], Average Loss: 1852.9675\n",
            "Validation loss did not improve. Patience left: 4/5\n",
            "Training Epoch [52/100], Average Loss: 555.5796\n",
            "Validation Epoch [52/100], Average Loss: 1838.5054\n",
            "Training Epoch [53/100], Average Loss: 548.0814\n",
            "Validation Epoch [53/100], Average Loss: 1878.5384\n",
            "Validation loss did not improve. Patience left: 4/5\n",
            "Training Epoch [54/100], Average Loss: 535.4119\n",
            "Validation Epoch [54/100], Average Loss: 1864.2513\n",
            "Validation loss did not improve. Patience left: 3/5\n",
            "Training Epoch [55/100], Average Loss: 514.0195\n",
            "Validation Epoch [55/100], Average Loss: 1844.6411\n",
            "Validation loss did not improve. Patience left: 2/5\n",
            "Training Epoch [56/100], Average Loss: 506.1049\n",
            "Validation Epoch [56/100], Average Loss: 1860.2728\n",
            "Validation loss did not improve. Patience left: 1/5\n",
            "Training Epoch [57/100], Average Loss: 502.0941\n",
            "Validation Epoch [57/100], Average Loss: 1869.3644\n",
            "Validation loss did not improve. Patience left: 0/5\n",
            "Early stopping after 52 epochs without improvement.\n",
            "Training finished!\n"
          ]
        }
      ],
      "source": [
        "\n",
        "model = SimpleNN(input_size, output_size)\n",
        "\n",
        "# Check if GPU is available\n",
        "\n",
        "device = torch.device(\"cuda\" if torch.cuda.is_available() else \"cpu\")\n",
        "\n",
        "# Move model to the GPU\n",
        "model.to(device)\n",
        "\n",
        "# Move the criterion and optimizer to the GPU\n",
        "criterion = nn.MSELoss().to(device)\n",
        "#optimizer = optim.Adam(model.parameters(), lr=0.01, weight_decay=0.001)\n",
        "optimizer = optim.SGD(model.parameters(), lr=0.0001, momentum=0.9, weight_decay=0.001)\n",
        "torch.nn.utils.clip_grad_norm_(model.parameters(), max_norm=1.0)\n",
        "\n",
        "# Early stopping parameters\n",
        "early_stopping_patience = 5\n",
        "best_val_loss = float('inf')\n",
        "counter = 0\n",
        "\n",
        "# Training loop\n",
        "num_epochs = 100\n",
        "for epoch in range(num_epochs):\n",
        "    model.train()\n",
        "    running_train_loss = 0.0\n",
        "\n",
        "    for batch_idx, (inputs, targets) in enumerate(train_loader):\n",
        "        # Move inputs and targets to GPU\n",
        "        inputs, targets = inputs.to(device), targets.to(device)\n",
        "\n",
        "        # Flatten the inputs if needed\n",
        "        inputs = inputs.view(inputs.size(0), -1)\n",
        "\n",
        "        # Zero the gradients\n",
        "        optimizer.zero_grad()\n",
        "\n",
        "        # Forward pass\n",
        "        outputs = model(inputs)\n",
        "\n",
        "        # Calculate the loss\n",
        "        loss = criterion(outputs, targets)\n",
        "\n",
        "        # L2 regularization term\n",
        "        l2_reg = torch.tensor(0.).to(device)\n",
        "        for param in model.parameters():\n",
        "            l2_reg += torch.norm(param, p=2)\n",
        "\n",
        "        loss += 0.001 * l2_reg\n",
        "\n",
        "        # Backward pass and optimization\n",
        "        loss.backward()\n",
        "        optimizer.step()\n",
        "\n",
        "        running_train_loss += loss.item()\n",
        "\n",
        "    # Print the average training loss for the epoch\n",
        "    average_train_loss = running_train_loss / len(train_loader)\n",
        "    print(f'Training Epoch [{epoch + 1}/{num_epochs}], Average Loss: {average_train_loss:.4f}')\n",
        "\n",
        "    # Validation loop\n",
        "    model.eval()\n",
        "    running_val_loss = 0.0\n",
        "\n",
        "    with torch.no_grad():\n",
        "        for batch_idx, (val_inputs, val_targets) in enumerate(val_loader):\n",
        "            # Move validation inputs and targets to GPU\n",
        "            val_inputs, val_targets = val_inputs.to(device), val_targets.to(device)\n",
        "            val_inputs = val_inputs.view(val_inputs.size(0), -1)\n",
        "\n",
        "            val_outputs = model(val_inputs)\n",
        "            val_loss = criterion(val_outputs, val_targets)\n",
        "            running_val_loss += val_loss.item()\n",
        "\n",
        "    # Print the average validation loss for the epoch\n",
        "    average_val_loss = running_val_loss / len(val_loader)\n",
        "    print(f'Validation Epoch [{epoch + 1}/{num_epochs}], Average Loss: {average_val_loss:.4f}')\n",
        "\n",
        "    # Early stopping check\n",
        "    if average_val_loss < best_val_loss:\n",
        "        best_val_loss = average_val_loss\n",
        "        counter = 0\n",
        "    else:\n",
        "        counter += 1\n",
        "        print(f'Validation loss did not improve. Patience left: {early_stopping_patience - counter}/{early_stopping_patience}')\n",
        "        if counter >= early_stopping_patience:\n",
        "            print(f'Early stopping after {epoch + 1 - early_stopping_patience} epochs without improvement.')\n",
        "            break\n",
        "\n",
        "print('Training finished!')"
      ]
    },
    {
      "cell_type": "code",
      "execution_count": null,
      "metadata": {
        "id": "vomadUYIUqVH"
      },
      "outputs": [],
      "source": [
        "torch.save(model,'parrot.pth')\n",
        "\n",
        "checkpoint = {\n",
        "    'epoch': epoch + 1,\n",
        "    'model_state_dict': model.state_dict(),\n",
        "    'optimizer_state_dict': optimizer.state_dict(),\n",
        "    'loss': average_val_loss,\n",
        "    'model_architecture': SimpleNN(input_size, output_size)\n",
        "}\n",
        "torch.save(checkpoint, 'parrot.pth')"
      ]
    },
    {
      "cell_type": "code",
      "source": [
        "from PIL import Image\n",
        "import numpy as np\n",
        "import os\n",
        "from torchvision import transforms\n",
        "\n",
        "img = Image.open(\"3.jpg\")\n",
        "\n",
        "img = img.resize((64,64))\n",
        "img.save(\"3.jpg\")\n",
        "\n",
        "transform = transforms.Compose([\n",
        "transforms.ToTensor(),\n",
        "    ])\n",
        "\n",
        "img_tensor = transform(img).unsqueeze(0)\n",
        "img_tensor = img_tensor.view(1, -1)\n",
        "\n",
        "input_size = 64 *64*3  # Replace with the actual input size\n",
        "output_size = 64*64  # Replace with the actual output size\n",
        "\n",
        "# Load the model architecture and state dictionary\n",
        "checkpoint = torch.load('parrot.pth')\n",
        "model_architecture = SimpleNN(input_size, output_size)\n",
        "model_architecture.load_state_dict(checkpoint['model_state_dict'])\n",
        "model_architecture.eval()\n",
        "\n",
        "with torch.no_grad():\n",
        "    output = model_architecture(img_tensor)\n",
        "\n",
        "output = output.view(1, 64, 64)\n",
        "output = Image.fromarray(output.squeeze().numpy().astype('uint8'))\n",
        "\n",
        "output.save(\"3_output.jpg\")\n"
      ],
      "metadata": {
        "id": "nz2_ewvnnxMM"
      },
      "execution_count": null,
      "outputs": []
    },
    {
      "cell_type": "code",
      "execution_count": null,
      "metadata": {
        "id": "4_wJhwFTUqVI"
      },
      "outputs": [],
      "source": []
    }
  ],
  "metadata": {
    "kernelspec": {
      "display_name": "Python 3",
      "name": "python3"
    },
    "language_info": {
      "codemirror_mode": {
        "name": "ipython",
        "version": 3
      },
      "file_extension": ".py",
      "mimetype": "text/x-python",
      "name": "python",
      "nbconvert_exporter": "python",
      "pygments_lexer": "ipython3",
      "version": "3.11.5"
    },
    "colab": {
      "provenance": [],
      "gpuType": "T4",
      "include_colab_link": true
    },
    "accelerator": "GPU"
  },
  "nbformat": 4,
  "nbformat_minor": 0
}